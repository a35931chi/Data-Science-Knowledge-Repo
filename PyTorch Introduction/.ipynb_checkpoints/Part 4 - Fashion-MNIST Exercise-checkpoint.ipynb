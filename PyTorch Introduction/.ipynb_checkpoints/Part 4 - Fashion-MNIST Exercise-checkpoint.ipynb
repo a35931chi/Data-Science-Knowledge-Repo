{
 "cells": [
  {
   "cell_type": "markdown",
   "metadata": {},
   "source": [
    "# Classifying Fashion-MNIST\n",
    "\n",
    "Now it's your turn to build and train a neural network. You'll be using the [Fashion-MNIST dataset](https://github.com/zalandoresearch/fashion-mnist), a drop-in replacement for the MNIST dataset. MNIST is actually quite trivial with neural networks where you can easily achieve better than 97% accuracy. Fashion-MNIST is a set of 28x28 greyscale images of clothes. It's more complex than MNIST, so it's a better representation of the actual performance of your network, and a better representation of datasets you'll use in the real world.\n",
    "\n",
    "<img src='assets/fashion-mnist-sprite.png' width=500px>\n",
    "\n",
    "In this notebook, you'll build your own neural network. For the most part, you could just copy and paste the code from Part 3, but you wouldn't be learning. It's important for you to write the code yourself and get it to work. Feel free to consult the previous notebook though as you work through this.\n",
    "\n",
    "First off, let's load the dataset through torchvision."
   ]
  },
  {
   "cell_type": "code",
   "execution_count": 1,
   "metadata": {},
   "outputs": [
    {
     "name": "stdout",
     "output_type": "stream",
     "text": [
      "Downloading http://fashion-mnist.s3-website.eu-central-1.amazonaws.com/train-images-idx3-ubyte.gz\n",
      "Downloading http://fashion-mnist.s3-website.eu-central-1.amazonaws.com/train-labels-idx1-ubyte.gz\n",
      "Downloading http://fashion-mnist.s3-website.eu-central-1.amazonaws.com/t10k-images-idx3-ubyte.gz\n",
      "Downloading http://fashion-mnist.s3-website.eu-central-1.amazonaws.com/t10k-labels-idx1-ubyte.gz\n",
      "Processing...\n",
      "Done!\n"
     ]
    }
   ],
   "source": [
    "import torch\n",
    "from torchvision import datasets, transforms\n",
    "import helper\n",
    "\n",
    "# Define a transform to normalize the data\n",
    "transform = transforms.Compose([transforms.ToTensor(),\n",
    "                                transforms.Normalize((0.5, 0.5, 0.5), (0.5, 0.5, 0.5))])\n",
    "# Download and load the training data\n",
    "trainset = datasets.FashionMNIST('F_MNIST_data/', download=True, train=True, transform=transform)\n",
    "trainloader = torch.utils.data.DataLoader(trainset, batch_size=64, shuffle=True)\n",
    "\n",
    "# Download and load the test data\n",
    "testset = datasets.FashionMNIST('F_MNIST_data/', download=True, train=False, transform=transform)\n",
    "testloader = torch.utils.data.DataLoader(testset, batch_size=64, shuffle=True)"
   ]
  },
  {
   "cell_type": "markdown",
   "metadata": {},
   "source": [
    "Here we can see one of the images."
   ]
  },
  {
   "cell_type": "code",
   "execution_count": 3,
   "metadata": {},
   "outputs": [],
   "source": [
    "image, label = next(iter(trainloader))\n",
    "helper.imshow(image[0,:]);"
   ]
  },
  {
   "cell_type": "markdown",
   "metadata": {},
   "source": [
    "With the data loaded, it's time to import the necessary packages."
   ]
  },
  {
   "cell_type": "code",
   "execution_count": 19,
   "metadata": {},
   "outputs": [],
   "source": [
    "%matplotlib inline\n",
    "%config InlineBackend.figure_format = 'retina'\n",
    "\n",
    "import matplotlib.pyplot as plt\n",
    "import numpy as np\n",
    "import time\n",
    "\n",
    "import torch\n",
    "from torch import nn\n",
    "from torch import optim\n",
    "import torch.nn.functional as F\n",
    "from torchvision import datasets, transforms\n",
    "\n",
    "from collections import OrderedDict\n",
    "\n",
    "\n",
    "import helper"
   ]
  },
  {
   "cell_type": "markdown",
   "metadata": {},
   "source": [
    "## Building the network\n",
    "\n",
    "Here you should define your network. As with MNIST, each image is 28x28 which is a total of 784 pixels, and there are 10 classes. You should include at least one hidden layer. We suggest you use ReLU activations for the layers and to return the logits from the forward pass. It's up to you how many layers you add and the size of those layers."
   ]
  },
  {
   "cell_type": "code",
   "execution_count": 17,
   "metadata": {},
   "outputs": [
    {
     "data": {
      "text/plain": [
       "28"
      ]
     },
     "execution_count": 17,
     "metadata": {},
     "output_type": "execute_result"
    }
   ],
   "source": [
    "# TODO: Define your network architecture here\n",
    "#let's find out how large the images are\n",
    "\n",
    "len(trainloader)\n",
    "\n",
    "images, labels = next(iter(trainloader))\n",
    "\n",
    "len(images[0][0][0])"
   ]
  },
  {
   "cell_type": "code",
   "execution_count": 20,
   "metadata": {},
   "outputs": [],
   "source": [
    "# Hyperparameters for our network\n",
    "input_size = 784\n",
    "hidden_sizes = [128, 64]\n",
    "output_size = 10\n",
    "\n",
    "# Build a feed-forward network\n",
    "model = nn.Sequential(OrderedDict([\n",
    "                      ('fc1', nn.Linear(input_size, hidden_sizes[0])),\n",
    "                      ('relu1', nn.ReLU()),\n",
    "                      ('fc2', nn.Linear(hidden_sizes[0], hidden_sizes[1])),\n",
    "                      ('relu2', nn.ReLU()),\n",
    "                      ('logits', nn.Linear(hidden_sizes[1], output_size))]))"
   ]
  },
  {
   "cell_type": "code",
   "execution_count": null,
   "metadata": {},
   "outputs": [],
   "source": []
  },
  {
   "cell_type": "markdown",
   "metadata": {},
   "source": [
    "# Train the network\n",
    "\n",
    "Now you should create your network and train it. First you'll want to define [the criterion](http://pytorch.org/docs/master/nn.html#loss-functions) ( something like `nn.CrossEntropyLoss`) and [the optimizer](http://pytorch.org/docs/master/optim.html) (typically `optim.SGD` or `optim.Adam`).\n",
    "\n",
    "Then write the training code. Remember the training pass is a fairly straightforward process:\n",
    "\n",
    "* Make a forward pass through the network to get the logits \n",
    "* Use the logits to calculate the loss\n",
    "* Perform a backward pass through the network with `loss.backward()` to calculate the gradients\n",
    "* Take a step with the optimizer to update the weights\n",
    "\n",
    "By adjusting the hyperparameters (hidden units, learning rate, etc), you should be able to get the training loss below 0.4."
   ]
  },
  {
   "cell_type": "code",
   "execution_count": null,
   "metadata": {},
   "outputs": [],
   "source": [
    "# TODO: Create the network, define the criterion and optimizer\n"
   ]
  },
  {
   "cell_type": "code",
   "execution_count": 21,
   "metadata": {},
   "outputs": [],
   "source": [
    "criterion = nn.CrossEntropyLoss()\n",
    "optimizer = optim.SGD(model.parameters(), lr = 0.003)"
   ]
  },
  {
   "cell_type": "code",
   "execution_count": null,
   "metadata": {},
   "outputs": [],
   "source": [
    "# TODO: Train the network here\n"
   ]
  },
  {
   "cell_type": "code",
   "execution_count": 22,
   "metadata": {
    "scrolled": true
   },
   "outputs": [
    {
     "name": "stdout",
     "output_type": "stream",
     "text": [
      "Epoch: 1/3...  Step 40 Loss: 2.3036\n",
      "Epoch: 1/3...  Step 80 Loss: 2.2777\n",
      "Epoch: 1/3...  Step 120 Loss: 2.2489\n",
      "Epoch: 1/3...  Step 160 Loss: 2.2244\n",
      "Epoch: 1/3...  Step 200 Loss: 2.1918\n",
      "Epoch: 1/3...  Step 240 Loss: 2.1584\n",
      "Epoch: 1/3...  Step 280 Loss: 2.1122\n",
      "Epoch: 1/3...  Step 320 Loss: 2.0602\n",
      "Epoch: 1/3...  Step 360 Loss: 1.9965\n",
      "Epoch: 1/3...  Step 400 Loss: 1.9284\n",
      "Epoch: 1/3...  Step 440 Loss: 1.8494\n",
      "Epoch: 1/3...  Step 480 Loss: 1.7745\n",
      "Epoch: 1/3...  Step 520 Loss: 1.6868\n",
      "Epoch: 1/3...  Step 560 Loss: 1.6105\n",
      "Epoch: 1/3...  Step 600 Loss: 1.5340\n",
      "Epoch: 1/3...  Step 640 Loss: 1.4400\n",
      "Epoch: 1/3...  Step 680 Loss: 1.3805\n",
      "Epoch: 1/3...  Step 720 Loss: 1.3213\n",
      "Epoch: 1/3...  Step 760 Loss: 1.2456\n",
      "Epoch: 1/3...  Step 800 Loss: 1.2055\n",
      "Epoch: 1/3...  Step 840 Loss: 1.1419\n",
      "Epoch: 1/3...  Step 880 Loss: 1.1032\n",
      "Epoch: 1/3...  Step 920 Loss: 1.0666\n",
      "Epoch: 2/3...  Step 960 Loss: 0.5706\n",
      "Epoch: 2/3...  Step 1000 Loss: 0.9998\n",
      "Epoch: 2/3...  Step 1040 Loss: 0.9951\n",
      "Epoch: 2/3...  Step 1080 Loss: 0.9741\n",
      "Epoch: 2/3...  Step 1120 Loss: 0.9475\n",
      "Epoch: 2/3...  Step 1160 Loss: 0.9306\n",
      "Epoch: 2/3...  Step 1200 Loss: 0.8898\n",
      "Epoch: 2/3...  Step 1240 Loss: 0.8865\n",
      "Epoch: 2/3...  Step 1280 Loss: 0.8637\n",
      "Epoch: 2/3...  Step 1320 Loss: 0.8384\n",
      "Epoch: 2/3...  Step 1360 Loss: 0.8505\n",
      "Epoch: 2/3...  Step 1400 Loss: 0.8242\n",
      "Epoch: 2/3...  Step 1440 Loss: 0.8073\n",
      "Epoch: 2/3...  Step 1480 Loss: 0.8003\n",
      "Epoch: 2/3...  Step 1520 Loss: 0.7885\n",
      "Epoch: 2/3...  Step 1560 Loss: 0.7617\n",
      "Epoch: 2/3...  Step 1600 Loss: 0.7845\n",
      "Epoch: 2/3...  Step 1640 Loss: 0.7756\n",
      "Epoch: 2/3...  Step 1680 Loss: 0.7487\n",
      "Epoch: 2/3...  Step 1720 Loss: 0.7218\n",
      "Epoch: 2/3...  Step 1760 Loss: 0.7062\n",
      "Epoch: 2/3...  Step 1800 Loss: 0.7157\n",
      "Epoch: 2/3...  Step 1840 Loss: 0.7007\n",
      "Epoch: 3/3...  Step 1880 Loss: 0.0663\n",
      "Epoch: 3/3...  Step 1920 Loss: 0.7303\n",
      "Epoch: 3/3...  Step 1960 Loss: 0.6787\n",
      "Epoch: 3/3...  Step 2000 Loss: 0.6941\n",
      "Epoch: 3/3...  Step 2040 Loss: 0.6690\n",
      "Epoch: 3/3...  Step 2080 Loss: 0.6813\n",
      "Epoch: 3/3...  Step 2120 Loss: 0.6620\n",
      "Epoch: 3/3...  Step 2160 Loss: 0.6997\n",
      "Epoch: 3/3...  Step 2200 Loss: 0.6606\n",
      "Epoch: 3/3...  Step 2240 Loss: 0.6563\n",
      "Epoch: 3/3...  Step 2280 Loss: 0.6852\n",
      "Epoch: 3/3...  Step 2320 Loss: 0.6679\n",
      "Epoch: 3/3...  Step 2360 Loss: 0.6701\n",
      "Epoch: 3/3...  Step 2400 Loss: 0.6640\n",
      "Epoch: 3/3...  Step 2440 Loss: 0.6764\n",
      "Epoch: 3/3...  Step 2480 Loss: 0.6704\n",
      "Epoch: 3/3...  Step 2520 Loss: 0.6447\n",
      "Epoch: 3/3...  Step 2560 Loss: 0.6255\n",
      "Epoch: 3/3...  Step 2600 Loss: 0.6090\n",
      "Epoch: 3/3...  Step 2640 Loss: 0.6189\n",
      "Epoch: 3/3...  Step 2680 Loss: 0.6523\n",
      "Epoch: 3/3...  Step 2720 Loss: 0.6405\n",
      "Epoch: 3/3...  Step 2760 Loss: 0.6145\n",
      "Epoch: 3/3...  Step 2800 Loss: 0.6180\n"
     ]
    }
   ],
   "source": [
    "epochs = 3 #three epochs\n",
    "print_every = 40\n",
    "steps = 0\n",
    "for e in range(epochs):\n",
    "    running_loss = 0\n",
    "    for images, labels in iter(trainloader):\n",
    "        steps += 1\n",
    "        # Flatten MNIST images into a 784 long vector\n",
    "        images.resize_(images.size()[0], 784)\n",
    "        \n",
    "        optimizer.zero_grad()\n",
    "        \n",
    "        # Forward and backward passes\n",
    "        output = model.forward(images)\n",
    "        loss = criterion(output, labels)\n",
    "        loss.backward()\n",
    "        optimizer.step()\n",
    "        \n",
    "        running_loss += loss.item()\n",
    "        \n",
    "        if steps % print_every == 0:\n",
    "            print(\"Epoch: {}/{}... \".format(e+1, epochs),\n",
    "                  \"Step {}\".format(steps),\n",
    "                  \"Loss: {:.4f}\".format(running_loss/print_every))\n",
    "            \n",
    "            running_loss = 0"
   ]
  },
  {
   "cell_type": "code",
   "execution_count": 25,
   "metadata": {},
   "outputs": [
    {
     "data": {
      "image/png": "[encoded data removed]",
      "text/plain": [
       "<matplotlib.figure.Figure at 0x1c04485d860>"
      ]
     },
     "metadata": {
      "image/png": {
       "height": 204,
       "width": 423
      }
     },
     "output_type": "display_data"
    }
   ],
   "source": [
    "# Test out your network!\n",
    "\n",
    "dataiter = iter(testloader)\n",
    "images, labels = dataiter.next()\n",
    "img = images[0]\n",
    "# Convert 2D image to 1D vector\n",
    "img = img.resize_(1, 784)\n",
    "\n",
    "# TODO: Calculate the class probabilities (softmax) for img\n",
    "with torch.no_grad():\n",
    "    logits = model.forward(img)\n",
    "ps = F.softmax(logits, dim=1)\n",
    "\n",
    "# Plot the image and probabilities\n",
    "helper.view_classify(img.resize_(1, 28, 28), ps, version='Fashion')"
   ]
  },
  {
   "cell_type": "markdown",
   "metadata": {},
   "source": [
    "Now that your network is trained, you'll want to save it to disk so you can load it later instead of training it again. Obviously, it's impractical to train a network every time you need one. In practice, you'll train it once, save the model, then reload it for further training or making predictions. In the next part, I'll show you how to save and load trained models."
   ]
  }
 ],
 "metadata": {
  "kernelspec": {
   "display_name": "Python 3",
   "language": "python",
   "name": "python3"
  },
  "language_info": {
   "codemirror_mode": {
    "name": "ipython",
    "version": 3
   },
   "file_extension": ".py",
   "mimetype": "text/x-python",
   "name": "python",
   "nbconvert_exporter": "python",
   "pygments_lexer": "ipython3",
   "version": "3.5.3"
  }
 },
 "nbformat": 4,
 "nbformat_minor": 2
}
