{
 "cells": [
  {
   "cell_type": "markdown",
   "metadata": {},
   "source": [
    "# Training Neural Networks\n",
    "\n",
    "The network we built in the previous part isn't so smart, it doesn't know anything about our handwritten digits. Neural networks with non-linear activations work like universal function approximators. There is some function that maps your input to the output. For example, images of handwritten digits to class probabilities. The power of neural networks is that we can train them to approximate this function, and basically any function given enough data and compute time.\n",
    "\n",
    "<img src=\"assets/function_approx.png\" width=500px>\n",
    "\n",
    "At first the network is naive, it doesn't know the function mapping the inputs to the outputs. We train the network by showing it examples of real data, then adjusting the network parameters such that it approximates this function.\n",
    "\n",
    "To find these parameters, we need to know how poorly the network is predicting the real outputs. For this we calculate a **loss function** (also called the cost), a measure of our prediction error. For example, the mean squared loss is often used in regression and binary classification problems\n",
    "\n",
    "$$\n",
    "\\ell = \\frac{1}{2n}\\sum_i^n{\\left(y_i - \\hat{y}_i\\right)^2}\n",
    "$$\n",
    "\n",
    "where $n$ is the number of training examples, $y_i$ are the true labels, and $\\hat{y}_i$ are the predicted labels.\n",
    "\n",
    "By minimizing this loss with respect to the network parameters, we can find configurations where the loss is at a minimum and the network is able to predict the correct labels with high accuracy. We find this minimum using a process called **gradient descent**. The gradient is the slope of the loss function and points in the direction of fastest change. To get to the minimum in the least amount of time, we then want to follow the gradient (downwards). You can think of this like descending a mountain by following the steepest slope to the base.\n",
    "\n",
    "<img src='assets/gradient_descent.png' width=350px>"
   ]
  },
  {
   "cell_type": "markdown",
   "metadata": {},
   "source": [
    "## Backpropagation\n",
    "\n",
    "For single layer networks, gradient descent is simple to implement. However, it's more complicated for deeper, multilayer neural networks like the one we've built. Complicated enough that it took about 30 years before researchers figured out how to train multilayer networks, although it's straightforward once you learn about it. \n",
    "\n",
    "This is done through **backpropagation** which is really just an application of the chain rule from calculus. It's easiest to understand if we convert a two layer network into a graph representation.\n",
    "\n",
    "<img src='assets/w1_backprop_graph.png' width=400px>\n",
    "\n",
    "In the forward pass through the network, our data and operations go from right to left here. To train the weights with gradient descent, we propagate the gradient of the cost backwards through the network. Mathematically, this is really just calculating the gradient of the loss with respect to the weights using the chain rule.\n",
    "\n",
    "$$\n",
    "\\frac{\\partial \\ell}{\\partial w_1} = \\frac{\\partial l_1}{\\partial w_1} \\frac{\\partial s}{\\partial l_1} \\frac{\\partial l_2}{\\partial s} \\frac{\\partial \\ell}{\\partial l_2}\n",
    "$$\n",
    "\n",
    "We update our weights using this gradient with some learning rate $\\alpha$. \n",
    "\n",
    "$$\n",
    "w^\\prime = w - \\alpha \\frac{\\partial \\ell}{\\partial w}\n",
    "$$\n",
    "\n",
    "The learning rate is set such that the weight update steps are small enough that the iterative method settles in a minimum.\n",
    "\n",
    "The first thing we need to do for training is define our loss function. In PyTorch, you'll usually see this as `criterion`. Here we're using softmax output, so we want to use `criterion = nn.CrossEntropyLoss()` as our loss. Later when training, you use `loss = criterion(output, targets)` to calculate the actual loss.\n",
    "\n",
    "We also need to define the optimizer we're using, SGD or Adam, or something along those lines. Here I'll just use SGD with `torch.optim.SGD`, passing in the network parameters and the learning rate."
   ]
  },
  {
   "cell_type": "markdown",
   "metadata": {},
   "source": [
    "## Autograd\n",
    "\n",
    "Torch provides a module, `autograd`, for automatically calculating the gradient of tensors. It does this by keeping track of operations performed on tensors. To make sure PyTorch keeps track of operations on a tensor and calculates the gradients, you need to set `requires_grad` on a tensor. You can do this at creation with the `requires_grad` keyword, or at any time with `x.requires_grad_(True)`.\n",
    "\n",
    "You can turn off gradients for a block of code with the `torch.no_grad()` content:\n",
    "```python\n",
    "x = torch.zeros(1, requires_grad=True)\n",
    ">>> with torch.no_grad():\n",
    "...     y = x * 2\n",
    ">>> y.requires_grad\n",
    "False\n",
    "```\n",
    "\n",
    "Also, you can turn on or off gradients altogether with `torch.set_grad_enabled(True|False)`.\n",
    "\n",
    "The gradients are computed with respect to some variable `z` with `z.backward()`. This does a backward pass through the operations that created `z`."
   ]
  },
  {
   "cell_type": "code",
   "execution_count": 1,
   "metadata": {},
   "outputs": [],
   "source": [
    "%matplotlib inline\n",
    "%config InlineBackend.figure_format = 'retina'\n",
    "\n",
    "from collections import OrderedDict\n",
    "\n",
    "import numpy as np\n",
    "import time\n",
    "\n",
    "import torch\n",
    "from torch import nn\n",
    "from torch import optim\n",
    "import torch.nn.functional as F\n",
    "\n",
    "import helper"
   ]
  },
  {
   "cell_type": "code",
   "execution_count": 2,
   "metadata": {},
   "outputs": [
    {
     "name": "stdout",
     "output_type": "stream",
     "text": [
      "tensor([[-0.6396,  0.8167],\n",
      "        [-0.2933,  0.1262]])\n"
     ]
    }
   ],
   "source": [
    "x = torch.randn(2,2, requires_grad=True)\n",
    "print(x)"
   ]
  },
  {
   "cell_type": "code",
   "execution_count": 3,
   "metadata": {},
   "outputs": [
    {
     "name": "stdout",
     "output_type": "stream",
     "text": [
      "tensor([[ 0.4091,  0.6669],\n",
      "        [ 0.0860,  0.0159]])\n"
     ]
    }
   ],
   "source": [
    "y = x**2\n",
    "print(y)"
   ]
  },
  {
   "cell_type": "markdown",
   "metadata": {},
   "source": [
    "Below we can see the operation that created `y`, a power operation `PowBackward0`."
   ]
  },
  {
   "cell_type": "code",
   "execution_count": 4,
   "metadata": {},
   "outputs": [
    {
     "name": "stdout",
     "output_type": "stream",
     "text": [
      "<PowBackward0 object at 0x00000258C79A94E0>\n"
     ]
    }
   ],
   "source": [
    "## grad_fn shows the function that generated this variable\n",
    "print(y.grad_fn)"
   ]
  },
  {
   "cell_type": "markdown",
   "metadata": {},
   "source": [
    "The autgrad module keeps track of these operations and knows how to calculate the gradient for each one. In this way, it's able to calculate the gradients for a chain of operations, with respect to any one tensor. Let's reduce the tensor `y` to a scalar value, the mean."
   ]
  },
  {
   "cell_type": "code",
   "execution_count": 5,
   "metadata": {},
   "outputs": [
    {
     "name": "stdout",
     "output_type": "stream",
     "text": [
      "tensor(0.2945)\n"
     ]
    }
   ],
   "source": [
    "z = y.mean()\n",
    "print(z)"
   ]
  },
  {
   "cell_type": "markdown",
   "metadata": {},
   "source": [
    "You can check the gradients for `x` and `y` but they are empty currently."
   ]
  },
  {
   "cell_type": "code",
   "execution_count": 6,
   "metadata": {},
   "outputs": [
    {
     "name": "stdout",
     "output_type": "stream",
     "text": [
      "None\n"
     ]
    }
   ],
   "source": [
    "print(x.grad)"
   ]
  },
  {
   "cell_type": "markdown",
   "metadata": {},
   "source": [
    "To calculate the gradients, you need to run the `.backward` method on a Variable, `z` for example. This will calculate the gradient for `z` with respect to `x`\n",
    "\n",
    "$$\n",
    "\\frac{\\partial z}{\\partial x} = \\frac{\\partial}{\\partial x}\\left[\\frac{1}{n}\\sum_i^n x_i^2\\right] = \\frac{x}{2}\n",
    "$$"
   ]
  },
  {
   "cell_type": "code",
   "execution_count": 7,
   "metadata": {},
   "outputs": [
    {
     "name": "stdout",
     "output_type": "stream",
     "text": [
      "tensor([[-0.3198,  0.4083],\n",
      "        [-0.1466,  0.0631]])\n",
      "tensor([[-0.3198,  0.4083],\n",
      "        [-0.1466,  0.0631]])\n"
     ]
    }
   ],
   "source": [
    "z.backward()\n",
    "print(x.grad)\n",
    "print(x/2)"
   ]
  },
  {
   "cell_type": "markdown",
   "metadata": {},
   "source": [
    "These gradients calculations are particularly useful for neural networks. For training we need the gradients of the weights with respect to the cost. With PyTorch, we run data forward through the network to calculate the cost, then, go backwards to calculate the gradients with respect to the cost. Once we have the gradients we can make a gradient descent step. "
   ]
  },
  {
   "cell_type": "markdown",
   "metadata": {},
   "source": [
    "## Get the data and define the network\n",
    "\n",
    "The same as we saw in part 3, we'll load the MNIST dataset and define our network."
   ]
  },
  {
   "cell_type": "code",
   "execution_count": 8,
   "metadata": {},
   "outputs": [],
   "source": [
    "from torchvision import datasets, transforms\n",
    "\n",
    "# Define a transform to normalize the data\n",
    "transform = transforms.Compose([transforms.ToTensor(),\n",
    "                              transforms.Normalize((0.5, 0.5, 0.5), (0.5, 0.5, 0.5)),\n",
    "                             ])\n",
    "# Download and load the training data\n",
    "trainset = datasets.MNIST('MNIST_data/', download=True, train=True, transform=transform)\n",
    "trainloader = torch.utils.data.DataLoader(trainset, batch_size=64, shuffle=True)"
   ]
  },
  {
   "cell_type": "markdown",
   "metadata": {},
   "source": [
    "I'll build a network with `nn.Sequential` here. Only difference from the last part is I'm not actually using softmax on the output, but instead just using the raw output from the last layer. This is because the output from softmax is a probability distribution. Often, the output will have values really close to zero or really close to one. Due to [inaccuracies with representing numbers as floating points](https://docs.python.org/3/tutorial/floatingpoint.html), computations with a softmax output can lose accuracy and become unstable. To get around this, we'll use the raw output, called the **logits**, to calculate the loss."
   ]
  },
  {
   "cell_type": "code",
   "execution_count": 9,
   "metadata": {},
   "outputs": [],
   "source": [
    "# Hyperparameters for our network\n",
    "input_size = 784\n",
    "hidden_sizes = [128, 64]\n",
    "output_size = 10\n",
    "\n",
    "# Build a feed-forward network\n",
    "model = nn.Sequential(OrderedDict([\n",
    "                      ('fc1', nn.Linear(input_size, hidden_sizes[0])),\n",
    "                      ('relu1', nn.ReLU()),\n",
    "                      ('fc2', nn.Linear(hidden_sizes[0], hidden_sizes[1])),\n",
    "                      ('relu2', nn.ReLU()),\n",
    "                      ('logits', nn.Linear(hidden_sizes[1], output_size))]))"
   ]
  },
  {
   "cell_type": "markdown",
   "metadata": {},
   "source": [
    "## Training the network!\n",
    "\n",
    "The first thing we need to do for training is define our loss function. In PyTorch, you'll usually see this as `criterion`. Here we're using softmax output, so we want to use `criterion = nn.CrossEntropyLoss()` as our loss. Later when training, you use `loss = criterion(output, targets)` to calculate the actual loss.\n",
    "\n",
    "We also need to define the optimizer we're using, SGD or Adam, or something along those lines. Here I'll just use SGD with `torch.optim.SGD`, passing in the network parameters and the learning rate."
   ]
  },
  {
   "cell_type": "code",
   "execution_count": 10,
   "metadata": {},
   "outputs": [],
   "source": [
    "criterion = nn.CrossEntropyLoss()\n",
    "optimizer = optim.SGD(model.parameters(), lr=0.01)"
   ]
  },
  {
   "cell_type": "markdown",
   "metadata": {},
   "source": [
    "First, let's consider just one learning step before looping through all the data. The general process with PyTorch:\n",
    "\n",
    "* Make a forward pass through the network to get the logits \n",
    "* Use the logits to calculate the loss\n",
    "* Perform a backward pass through the network with `loss.backward()` to calculate the gradients\n",
    "* Take a step with the optimizer to update the weights\n",
    "\n",
    "Below I'll go through one training step and print out the weights and gradients so you can see how it changes."
   ]
  },
  {
   "cell_type": "code",
   "execution_count": 13,
   "metadata": {},
   "outputs": [
    {
     "name": "stdout",
     "output_type": "stream",
     "text": [
      "Initial weights -  Parameter containing:\n",
      "tensor(1.00000e-02 *\n",
      "       [[-1.2910,  1.4978, -0.2591,  ..., -1.5454, -3.3162, -3.2243],\n",
      "        [ 2.2670,  1.5165, -1.1375,  ...,  0.3688, -0.7842,  0.9590],\n",
      "        [-1.7183,  2.9179, -2.2028,  ...,  2.9790, -0.2093, -1.0979],\n",
      "        ...,\n",
      "        [-2.5160,  2.8826,  2.2281,  ...,  0.9600, -0.6004, -0.7100],\n",
      "        [ 1.6235,  3.2188,  0.2197,  ..., -3.1849, -1.1666, -1.3163],\n",
      "        [ 3.3046,  1.7002,  0.2856,  ...,  3.2172, -1.8526, -2.3628]])\n",
      "Gradient - tensor(1.00000e-02 *\n",
      "       [[ 0.0000,  0.0000,  0.0000,  ...,  0.0000,  0.0000,  0.0000],\n",
      "        [-0.0794, -0.0794, -0.0794,  ..., -0.0794, -0.0794, -0.0794],\n",
      "        [ 0.0580,  0.0580,  0.0580,  ...,  0.0580,  0.0580,  0.0580],\n",
      "        ...,\n",
      "        [ 0.0292,  0.0292,  0.0292,  ...,  0.0292,  0.0292,  0.0292],\n",
      "        [ 0.0772,  0.0772,  0.0772,  ...,  0.0772,  0.0772,  0.0772],\n",
      "        [ 0.0548,  0.0548,  0.0548,  ...,  0.0548,  0.0548,  0.0548]])\n"
     ]
    }
   ],
   "source": [
    "print('Initial weights - ', model.fc1.weight) #show weight\n",
    "\n",
    "images, labels = next(iter(trainloader))\n",
    "images.resize_(64, 784)\n",
    "\n",
    "# Clear the gradients, do this because gradients are accumulated\n",
    "optimizer.zero_grad()\n",
    "\n",
    "# Forward pass, then backward pass, then update weights\n",
    "output = model.forward(images) #forward pass\n",
    "loss = criterion(output, labels) #calculate loss\n",
    "loss.backward() #take a backwardpass\n",
    "print('Gradient -', model.fc1.weight.grad) \n",
    "optimizer.step() #take step to update weights"
   ]
  },
  {
   "cell_type": "code",
   "execution_count": 14,
   "metadata": {},
   "outputs": [
    {
     "name": "stdout",
     "output_type": "stream",
     "text": [
      "Updated weights -  Parameter containing:\n",
      "tensor([[-1.2910e-02,  1.4978e-02, -2.5911e-03,  ..., -1.5454e-02,\n",
      "         -3.3162e-02, -3.2243e-02],\n",
      "        [ 2.2677e-02,  1.5173e-02, -1.1367e-02,  ...,  3.6956e-03,\n",
      "         -7.8337e-03,  9.5982e-03],\n",
      "        [-1.7189e-02,  2.9173e-02, -2.2034e-02,  ...,  2.9784e-02,\n",
      "         -2.0985e-03, -1.0985e-02],\n",
      "        ...,\n",
      "        [-2.5163e-02,  2.8823e-02,  2.2278e-02,  ...,  9.5971e-03,\n",
      "         -6.0067e-03, -7.1030e-03],\n",
      "        [ 1.6227e-02,  3.2180e-02,  2.1892e-03,  ..., -3.1857e-02,\n",
      "         -1.1674e-02, -1.3171e-02],\n",
      "        [ 3.3041e-02,  1.6997e-02,  2.8504e-03,  ...,  3.2166e-02,\n",
      "         -1.8532e-02, -2.3633e-02]])\n"
     ]
    }
   ],
   "source": [
    "print('Updated weights - ', model.fc1.weight)"
   ]
  },
  {
   "cell_type": "markdown",
   "metadata": {},
   "source": [
    "### Training for real\n",
    "\n",
    "Now we'll put this algorithm into a loop so we can go through all the images. This is fairly straightforward. We'll loop through the mini-batches in our dataset, pass the data through the network to calculate the losses, get the gradients, then run the optimizer."
   ]
  },
  {
   "cell_type": "code",
   "execution_count": 15,
   "metadata": {},
   "outputs": [],
   "source": [
    "optimizer = optim.SGD(model.parameters(), lr=0.003)"
   ]
  },
  {
   "cell_type": "code",
   "execution_count": 18,
   "metadata": {},
   "outputs": [
    {
     "data": {
      "text/plain": [
       "938"
      ]
     },
     "execution_count": 18,
     "metadata": {},
     "output_type": "execute_result"
    }
   ],
   "source": [
    "len(trainloader)"
   ]
  },
  {
   "cell_type": "code",
   "execution_count": 17,
   "metadata": {
    "scrolled": true
   },
   "outputs": [
    {
     "name": "stdout",
     "output_type": "stream",
     "text": [
      "Epoch: 1/3...  Step 40 Loss: 0.4754\n",
      "Epoch: 1/3...  Step 80 Loss: 0.4622\n",
      "Epoch: 1/3...  Step 120 Loss: 0.4822\n",
      "Epoch: 1/3...  Step 160 Loss: 0.4481\n",
      "Epoch: 1/3...  Step 200 Loss: 0.4488\n",
      "Epoch: 1/3...  Step 240 Loss: 0.4270\n",
      "Epoch: 1/3...  Step 280 Loss: 0.4573\n",
      "Epoch: 1/3...  Step 320 Loss: 0.4674\n",
      "Epoch: 1/3...  Step 360 Loss: 0.4454\n",
      "Epoch: 1/3...  Step 400 Loss: 0.4420\n",
      "Epoch: 1/3...  Step 440 Loss: 0.4469\n",
      "Epoch: 1/3...  Step 480 Loss: 0.4350\n",
      "Epoch: 1/3...  Step 520 Loss: 0.4271\n",
      "Epoch: 1/3...  Step 560 Loss: 0.4368\n",
      "Epoch: 1/3...  Step 600 Loss: 0.4581\n",
      "Epoch: 1/3...  Step 640 Loss: 0.4217\n",
      "Epoch: 1/3...  Step 680 Loss: 0.4442\n",
      "Epoch: 1/3...  Step 720 Loss: 0.4115\n",
      "Epoch: 1/3...  Step 760 Loss: 0.4081\n",
      "Epoch: 1/3...  Step 800 Loss: 0.4093\n",
      "Epoch: 1/3...  Step 840 Loss: 0.4035\n",
      "Epoch: 1/3...  Step 880 Loss: 0.4145\n",
      "Epoch: 1/3...  Step 920 Loss: 0.4181\n",
      "Epoch: 2/3...  Step 960 Loss: 0.2354\n",
      "Epoch: 2/3...  Step 1000 Loss: 0.4014\n",
      "Epoch: 2/3...  Step 1040 Loss: 0.4096\n",
      "Epoch: 2/3...  Step 1080 Loss: 0.4068\n",
      "Epoch: 2/3...  Step 1120 Loss: 0.3987\n",
      "Epoch: 2/3...  Step 1160 Loss: 0.4215\n",
      "Epoch: 2/3...  Step 1200 Loss: 0.3769\n",
      "Epoch: 2/3...  Step 1240 Loss: 0.3835\n",
      "Epoch: 2/3...  Step 1280 Loss: 0.3886\n",
      "Epoch: 2/3...  Step 1320 Loss: 0.3971\n",
      "Epoch: 2/3...  Step 1360 Loss: 0.3783\n",
      "Epoch: 2/3...  Step 1400 Loss: 0.4171\n",
      "Epoch: 2/3...  Step 1440 Loss: 0.4126\n",
      "Epoch: 2/3...  Step 1480 Loss: 0.3642\n",
      "Epoch: 2/3...  Step 1520 Loss: 0.3724\n",
      "Epoch: 2/3...  Step 1560 Loss: 0.3727\n",
      "Epoch: 2/3...  Step 1600 Loss: 0.3530\n",
      "Epoch: 2/3...  Step 1640 Loss: 0.3936\n",
      "Epoch: 2/3...  Step 1680 Loss: 0.3730\n",
      "Epoch: 2/3...  Step 1720 Loss: 0.3663\n",
      "Epoch: 2/3...  Step 1760 Loss: 0.3660\n",
      "Epoch: 2/3...  Step 1800 Loss: 0.3539\n",
      "Epoch: 2/3...  Step 1840 Loss: 0.3977\n",
      "Epoch: 3/3...  Step 1880 Loss: 0.0388\n",
      "Epoch: 3/3...  Step 1920 Loss: 0.3585\n",
      "Epoch: 3/3...  Step 1960 Loss: 0.3432\n",
      "Epoch: 3/3...  Step 2000 Loss: 0.3761\n",
      "Epoch: 3/3...  Step 2040 Loss: 0.3550\n",
      "Epoch: 3/3...  Step 2080 Loss: 0.3678\n",
      "Epoch: 3/3...  Step 2120 Loss: 0.3633\n",
      "Epoch: 3/3...  Step 2160 Loss: 0.3640\n",
      "Epoch: 3/3...  Step 2200 Loss: 0.3793\n",
      "Epoch: 3/3...  Step 2240 Loss: 0.3660\n",
      "Epoch: 3/3...  Step 2280 Loss: 0.3523\n",
      "Epoch: 3/3...  Step 2320 Loss: 0.3709\n",
      "Epoch: 3/3...  Step 2360 Loss: 0.3615\n",
      "Epoch: 3/3...  Step 2400 Loss: 0.3553\n",
      "Epoch: 3/3...  Step 2440 Loss: 0.3584\n",
      "Epoch: 3/3...  Step 2480 Loss: 0.4068\n",
      "Epoch: 3/3...  Step 2520 Loss: 0.3596\n",
      "Epoch: 3/3...  Step 2560 Loss: 0.3291\n",
      "Epoch: 3/3...  Step 2600 Loss: 0.3422\n",
      "Epoch: 3/3...  Step 2640 Loss: 0.3445\n",
      "Epoch: 3/3...  Step 2680 Loss: 0.3365\n",
      "Epoch: 3/3...  Step 2720 Loss: 0.3574\n",
      "Epoch: 3/3...  Step 2760 Loss: 0.3405\n",
      "Epoch: 3/3...  Step 2800 Loss: 0.3696\n"
     ]
    }
   ],
   "source": [
    "epochs = 3 #three epochs\n",
    "print_every = 40\n",
    "steps = 0\n",
    "for e in range(epochs):\n",
    "    running_loss = 0\n",
    "    for images, labels in iter(trainloader):\n",
    "        steps += 1\n",
    "        # Flatten MNIST images into a 784 long vector\n",
    "        images.resize_(images.size()[0], 784)\n",
    "        \n",
    "        optimizer.zero_grad()\n",
    "        \n",
    "        # Forward and backward passes\n",
    "        output = model.forward(images)\n",
    "        loss = criterion(output, labels)\n",
    "        loss.backward()\n",
    "        optimizer.step()\n",
    "        \n",
    "        running_loss += loss.item()\n",
    "        \n",
    "        if steps % print_every == 0:\n",
    "            print(\"Epoch: {}/{}... \".format(e+1, epochs),\n",
    "                  \"Step {}\".format(steps),\n",
    "                  \"Loss: {:.4f}\".format(running_loss/print_every))\n",
    "            \n",
    "            running_loss = 0"
   ]
  },
  {
   "cell_type": "markdown",
   "metadata": {},
   "source": [
    "With the network trained, we can check out it's predictions."
   ]
  },
  {
   "cell_type": "code",
   "execution_count": 19,
   "metadata": {},
   "outputs": [
    {
     "data": {
      "image/png": "[encoded data removed]",
      "text/plain": [
       "<matplotlib.figure.Figure at 0x258ca529780>"
      ]
     },
     "metadata": {
      "image/png": {
       "height": 224,
       "width": 423
      }
     },
     "output_type": "display_data"
    }
   ],
   "source": [
    "images, labels = next(iter(trainloader))\n",
    "\n",
    "img = images[0].view(1, 784)\n",
    "# Turn off gradients to speed up this part\n",
    "with torch.no_grad():\n",
    "    logits = model.forward(img)\n",
    "\n",
    "# Output of the network are logits, need to take softmax for probabilities\n",
    "ps = F.softmax(logits, dim=1)\n",
    "helper.view_classify(img.view(1, 28, 28), ps)"
   ]
  },
  {
   "cell_type": "markdown",
   "metadata": {},
   "source": [
    "Now our network is brilliant. It can accurately predict the digits in our images. Next up you'll write the code for training a neural network on a more complex dataset."
   ]
  }
 ],
 "metadata": {
  "kernelspec": {
   "display_name": "Python 3",
   "language": "python",
   "name": "python3"
  },
  "language_info": {
   "codemirror_mode": {
    "name": "ipython",
    "version": 3
   },
   "file_extension": ".py",
   "mimetype": "text/x-python",
   "name": "python",
   "nbconvert_exporter": "python",
   "pygments_lexer": "ipython3",
   "version": "3.5.3"
  }
 },
 "nbformat": 4,
 "nbformat_minor": 2
}
